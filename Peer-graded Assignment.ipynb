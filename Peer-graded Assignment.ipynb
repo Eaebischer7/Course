{
  "metadata": {
    "kernelspec": {
      "name": "python",
      "display_name": "Python (Pyodide)",
      "language": "python"
    },
    "language_info": {
      "codemirror_mode": {
        "name": "python",
        "version": 3
      },
      "file_extension": ".py",
      "mimetype": "text/x-python",
      "name": "python",
      "nbconvert_exporter": "python",
      "pygments_lexer": "ipython3",
      "version": "3.8"
    }
  },
  "nbformat_minor": 4,
  "nbformat": 4,
  "cells": [
    {
      "cell_type": "markdown",
      "source": "# Peer-graded Assignment",
      "metadata": {}
    },
    {
      "cell_type": "markdown",
      "source": "I'm Etienne and I'm learning Data Science",
      "metadata": {}
    },
    {
      "cell_type": "markdown",
      "source": "Here are some Data Science Languages:\nPython\nR\nSQL",
      "metadata": {}
    },
    {
      "cell_type": "markdown",
      "source": "Here are some Data Science Libraries: Pandas, Matplotlib, NumPy",
      "metadata": {}
    },
    {
      "cell_type": "markdown",
      "source": "Here you can find a table with 3 Data Science Tools\n\n|Tools|\n| --- |\n| Power BI |\n| Tableau |\n| Excel |",
      "metadata": {}
    },
    {
      "cell_type": "markdown",
      "source": "Here are some arithmetic expressions:\n1+4=5;\n10/2=5;\n2*4=8;",
      "metadata": {}
    },
    {
      "cell_type": "code",
      "source": "print(1+2)\nprint(2*5)",
      "metadata": {
        "trusted": true
      },
      "outputs": [
        {
          "name": "stdout",
          "text": "3\n10\n",
          "output_type": "stream"
        }
      ],
      "execution_count": 1
    },
    {
      "cell_type": "code",
      "source": "min=60\nhour=min/60\nprint(hour)",
      "metadata": {
        "trusted": true
      },
      "outputs": [
        {
          "name": "stdout",
          "text": "1.0\n",
          "output_type": "stream"
        }
      ],
      "execution_count": 2
    },
    {
      "cell_type": "markdown",
      "source": "Here is the markdown cell for the objectives",
      "metadata": {}
    },
    {
      "cell_type": "markdown",
      "source": "## Author, Etienne Aebischer",
      "metadata": {}
    }
  ]
}